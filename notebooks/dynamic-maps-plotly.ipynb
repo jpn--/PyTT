{
 "cells": [
  {
   "cell_type": "code",
   "execution_count": null,
   "metadata": {},
   "outputs": [],
   "source": [
    "import transportation_tutorials as tt"
   ]
  },
  {
   "cell_type": "markdown",
   "metadata": {},
   "source": [
    "# Creating Dynamic Maps\n",
    "\n",
    "In this gallery, we will demonstrate the creation of a variety of interactive maps.\n",
    "Interactive, dynamic maps are a good choice for analytical work that will be reviewed\n",
    "online, either in a Jupyter notebook by an analyst, or published on a website.\n",
    "In these examples,\n",
    "we will demonstrate creating dynamic maps using [Plotly](https://plot.ly/python/) \n",
    "and [mapped](https://pypi.org/project/mapped/), which integrates a handful of \n",
    "plotly mapping tools directly into the geopandas dataframe object."
   ]
  },
  {
   "cell_type": "code",
   "execution_count": null,
   "metadata": {},
   "outputs": [],
   "source": [
    "import numpy as np\n",
    "import pandas as pd\n",
    "import geopandas as gpd\n",
    "import mapped"
   ]
  },
  {
   "cell_type": "markdown",
   "metadata": {},
   "source": [
    "We'll begin by loading the TAZ and MAZ shapefiles, filtering them to a restricted study area,\n",
    "and defining the center point."
   ]
  },
  {
   "cell_type": "code",
   "execution_count": null,
   "metadata": {},
   "outputs": [],
   "source": [
    "xmin = 905712\n",
    "ymin = 905343\n",
    "taz = gpd.read_file(tt.data('SERPM8-TAZSHAPE')).cx[xmin:, ymin:].to_crs(epsg=4326)\n",
    "maz = gpd.read_file(tt.data('SERPM8-MAZSHAPE')).cx[xmin:, ymin:].to_crs(epsg=4326)\n",
    "center = (26.9198, -80.1121) # regular lat-lon"
   ]
  },
  {
   "cell_type": "markdown",
   "metadata": {},
   "source": [
    "## Simple Map\n",
    "\n",
    "Simple maps showing the geographic data contained in a GeoDataFrame can be created\n",
    "by converting the GeoDataFrame to a GeoJson object, and adding that to\n",
    "a folium Map."
   ]
  },
  {
   "cell_type": "code",
   "execution_count": null,
   "metadata": {},
   "outputs": [],
   "source": [
    "taz.plotly_choropleth(line_width=2)"
   ]
  },
  {
   "cell_type": "markdown",
   "metadata": {},
   "source": [
    "### Alternative Map Tiles\n",
    "\n",
    "The default tiles are set to [Carto](https://carto.com)'s \n",
    "[positron](https://carto.com/blog/getting-to-know-positron-and-dark-matter/), \n",
    "but others tiles are possible, including\n",
    "tilesets from [Stamen Design](http://stamen.com/) and [OpenStreetMap](www.openstreetmap.org).  \n",
    "The [positron](https://carto.com/blog/getting-to-know-positron-and-dark-matter/) tiles are\n",
    "specifically designed to give geographic context without overwhelming maps with data \n",
    "that is not the analytic focus of the presentation."
   ]
  },
  {
   "cell_type": "code",
   "execution_count": null,
   "metadata": {},
   "outputs": [],
   "source": [
    "taz.plotly_choropleth(line_width=2, mapbox_style=\"open-street-map\")"
   ]
  },
  {
   "cell_type": "markdown",
   "metadata": {},
   "source": [
    "## Mapping Data\n",
    "\n",
    "One of the input files for SERPM 8 is a MAZ-level demographics file.\n",
    "The file for the 2015 base year is included in the tutorial data, and \n",
    "we can load it with the `read_csv` function."
   ]
  },
  {
   "cell_type": "code",
   "execution_count": null,
   "metadata": {},
   "outputs": [],
   "source": [
    "mazd = pd.read_csv(tt.data('SERPM8-MAZDATA', '*.csv'))"
   ]
  },
  {
   "cell_type": "markdown",
   "metadata": {},
   "source": [
    "Use `info` to see a summary of the DataFrame."
   ]
  },
  {
   "cell_type": "code",
   "execution_count": null,
   "metadata": {},
   "outputs": [],
   "source": [
    "mazd.info()"
   ]
  },
  {
   "cell_type": "markdown",
   "metadata": {},
   "source": [
    "We can join the demographics table to the shape file we loaded previously,\n",
    "to enable some visualizations on this data.  This can be done with the\n",
    "``merge`` method of DataFrames."
   ]
  },
  {
   "cell_type": "code",
   "execution_count": null,
   "metadata": {},
   "outputs": [],
   "source": [
    "maz1 = maz.merge(mazd, how='left', left_on='MAZ', right_on='mgra')"
   ]
  },
  {
   "cell_type": "code",
   "execution_count": null,
   "metadata": {},
   "outputs": [],
   "source": [
    "maz1.index=maz1.MAZ"
   ]
  },
  {
   "cell_type": "markdown",
   "metadata": {},
   "source": [
    "## Choropleth Maps\n",
    "\n",
    "A [choropleth map](https://en.wikipedia.org/wiki/Choropleth_map) is a map with areas colored, \n",
    "shaded, or patterned in proportion to some measured value for the region displayed. This kind of\n",
    "map is commonly used to display things like population density.\n",
    "\n",
    "When a data column is given to the plotly_choropleth function, that data is used to colorize\n",
    "the choropleth map."
   ]
  },
  {
   "cell_type": "code",
   "execution_count": null,
   "metadata": {},
   "outputs": [],
   "source": [
    "maz1.plotly_choropleth(\"PopDen\", colorbar_title=\"Population Density\", colorbar_title_side='right')"
   ]
  }
 ],
 "metadata": {
  "kernelspec": {
   "display_name": "TT",
   "language": "python",
   "name": "tt"
  },
  "language_info": {
   "codemirror_mode": {
    "name": "ipython",
    "version": 3
   },
   "file_extension": ".py",
   "mimetype": "text/x-python",
   "name": "python",
   "nbconvert_exporter": "python",
   "pygments_lexer": "ipython3",
   "version": "3.7.3"
  },
  "widgets": {
   "application/vnd.jupyter.widget-state+json": {
    "state": {},
    "version_major": 2,
    "version_minor": 0
   }
  }
 },
 "nbformat": 4,
 "nbformat_minor": 4
}
